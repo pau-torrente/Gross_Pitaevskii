version https://git-lfs.github.com/spec/v1
oid sha256:321561103ca734c10db7c29b8feaee9c19a25b53b95a9b2cadbadd021da8480c
size 25096481
